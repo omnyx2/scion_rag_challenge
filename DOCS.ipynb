# --- 3. 실제 사용 예시 ---

if **name** == "**main**":
try: # 1. 외부 스키마로부터 'Document' 클래스를 동적으로 생성
DynamicDocument = create_class_from_schema(
"Document", "/workspace/configs/csv_schema/test.json"
)
print(
f"'{'schema.json'}'으로부터 '{DynamicDocument.**name**}' 클래스를 성공적으로 생성했습니다."
)
print("-" \* 30)

        # 2. 동적으로 생성된 클래스를 사용하여 데이터 객체 생성
        docs_1 = [
            DynamicDocument("doc1", "첫 번째 문서", "요약1", [0.1, 0.2]),
            DynamicDocument("doc2", "두 번째 문서", "요약2", [0.3, 0.4]),
        ]
        doc_3 = DynamicDocument("doc3", "세 번째 문서", "요약3", [0.5, 0.6])
        docs_4 = [
            DynamicDocument("doc4", "네 번째 문서", "요약4", [0.7, 0.8]),
            DynamicDocument("doc5", "다섯 번째 문서", "요약5", [0.9, 1.0]),
        ]

        output_filename = "documents_output.csv"

        # 3. 시나리오별 함수 호출
        print("\n--- 시나리오 1: 배치 데이터로 새 파일 생성 (mode='w') ---")
        save_documents_batch(docs_1, output_filename, DynamicDocument, mode="w")

        print("\n--- 시나리오 2: 기존 파일에 단일 데이터 이어쓰기 (mode='a') ---")
        save_document_single(doc_3, output_filename, DynamicDocument, mode="a")

        print("\n--- 시나리오 3: 기존 파일에 배치 데이터 이어쓰기 (mode='a') ---")
        save_documents_batch(docs_4, output_filename, DynamicDocument, mode="a")

        print("\n--- 최종 파일 내용 확인 ---")
        with open(output_filename, "r", encoding="utf-8") as f:
            print(f.read().strip())
        print("-" * 30)

        print("\n--- 시나리오 4: 잘못된 타입의 데이터를 저장 시도 (오류 발생) ---")

        class WrongType:
            pass

        wrong_doc = WrongType()
        save_document_single(wrong_doc, "temp.csv", DynamicDocument)

    except (FileNotFoundError, TypeError, ValueError, IOError) as e:
        print(f"\n💥 프로그램 실행 중 오류가 발생했습니다: {e}")
